{
 "cells": [
  {
   "cell_type": "markdown",
   "metadata": {},
   "source": [
    "# Handwritten Digit Recognition - Group 6"
   ]
  },
  {
   "cell_type": "code",
   "execution_count": 35,
   "metadata": {
    "id": "MeM9KLtXLg7H"
   },
   "outputs": [],
   "source": [
    "# Importing all the required libraries\n",
    "\n",
    "import keras\n",
    "from keras.datasets import mnist\n",
    "from keras.utils import np_utils\n",
    "from keras.models import load_model\n",
    "import matplotlib.pyplot as plt\n",
    "import tensorflow as tf\n",
    "from tensorflow.keras.models import Sequential\n",
    "from tensorflow.keras.layers import Dense, Conv2D, Dropout, Flatten, MaxPooling2D\n",
    "import sklearn\n",
    "from sklearn import metrics, svm\n",
    "from sklearn.model_selection import cross_val_score\n",
    "from sklearn.model_selection import GridSearchCV\n",
    "from sklearn.linear_model import LogisticRegression\n",
    "from sklearn.model_selection import train_test_split\n",
    "from sklearn.multiclass import OneVsRestClassifier\n",
    "from sklearn.neighbors import KNeighborsClassifier\n",
    "from sklearn.preprocessing import MinMaxScaler\n",
    "from sklearn.svm import SVC, LinearSVC, NuSVC\n",
    "import os\n",
    "import PIL\n",
    "import cv2\n",
    "import glob\n",
    "import numpy as np\n",
    "from tkinter import *\n",
    "from PIL import Image, ImageDraw, ImageGrab\n",
    "from sklearn.decomposition import PCA\n",
    "import numpy as np"
   ]
  },
  {
   "cell_type": "code",
   "execution_count": 36,
   "metadata": {
    "colab": {
     "base_uri": "https://localhost:8080/"
    },
    "id": "PH6O7drbN8Nc",
    "outputId": "dfbb420a-87e0-45d7-e56f-48c42488a984"
   },
   "outputs": [],
   "source": [
    "# Loading the dataset\n",
    "(X_train, y_train), (X_test, y_test) = mnist.load_data()"
   ]
  },
  {
   "cell_type": "code",
   "execution_count": 37,
   "metadata": {
    "colab": {
     "base_uri": "https://localhost:8080/",
     "height": 481
    },
    "id": "R5mcsmn_OEjM",
    "outputId": "6f599ed6-b01c-4410-9d42-6b430a715f46"
   },
   "outputs": [
    {
     "data": {
      "image/png": "[encoded data removed]",
      "text/plain": [
       "<Figure size 720x720 with 20 Axes>"
      ]
     },
     "metadata": {
      "needs_background": "light"
     },
     "output_type": "display_data"
    }
   ],
   "source": [
    "# Viewing the sample dataset (first 20)\n",
    "\n",
    "plt.figure(figsize=(10,10))\n",
    "for i in range(20):\n",
    "    plt.subplot(5,5,i+1)\n",
    "    plt.imshow(X_train[i], cmap=plt.cm.binary)\n",
    "\n",
    "plt.show()"
   ]
  },
  {
   "cell_type": "code",
   "execution_count": 38,
   "metadata": {
    "colab": {
     "base_uri": "https://localhost:8080/"
    },
    "id": "Ww2zAUQPgSGd",
    "outputId": "455347e4-7352-4b24-8b2e-01b153ea0d46"
   },
   "outputs": [
    {
     "data": {
      "text/plain": [
       "((60000, 28, 28), (10000, 28, 28))"
      ]
     },
     "execution_count": 38,
     "metadata": {},
     "output_type": "execute_result"
    }
   ],
   "source": [
    "# to check the Shape of the data \n",
    "X_train.shape,X_test.shape"
   ]
  },
  {
   "cell_type": "code",
   "execution_count": 39,
   "metadata": {
    "colab": {
     "base_uri": "https://localhost:8080/"
    },
    "id": "q4XHgKjeA3Fg",
    "outputId": "38e0393d-3483-44ff-d0ff-b772dddea4a9"
   },
   "outputs": [
    {
     "data": {
      "text/plain": [
       "((60000, 28, 28, 1), (10000, 28, 28, 1))"
      ]
     },
     "execution_count": 39,
     "metadata": {},
     "output_type": "execute_result"
    }
   ],
   "source": [
    "# As the shape of data is (60000,28,28) which is a 3-D, but we need 4-Dimensional data for CNN(keras API). So we are reshaping the set to 4-D data and convert it to float.\n",
    "X_train = X_train.reshape(X_train.shape[0], 28, 28, 1).astype(\"float32\")\n",
    "X_test = X_test.reshape(X_test.shape[0], 28, 28, 1).astype(\"float32\")\n",
    "X_train.shape,X_test.shape"
   ]
  },
  {
   "cell_type": "code",
   "execution_count": 40,
   "metadata": {
    "id": "VORCxAGsCNAH"
   },
   "outputs": [],
   "source": [
    "# Normalizing the data. Pixel gray scale value is between 0-255, so we will normalize the pixel values to 0-1 by divining it withh 255.\n",
    "X_train /= 255\n",
    "X_test /= 255"
   ]
  },
  {
   "cell_type": "code",
   "execution_count": 41,
   "metadata": {},
   "outputs": [
    {
     "data": {
      "text/plain": [
       "(60000, 50)"
      ]
     },
     "execution_count": 41,
     "metadata": {},
     "output_type": "execute_result"
    }
   ],
   "source": [
    "# Reshaping the data and implementing PCA on train and test data\n",
    "\n",
    "X_train_1 = X_train.reshape((60000, -1))\n",
    "y_train_1 = y_train.reshape((60000, -1))\n",
    "X_test_1 = X_test.reshape((10000, -1))\n",
    "y_test_1 = y_test.reshape((10000, -1))\n",
    "\n",
    "pca = PCA(n_components=50)\n",
    "pca.fit(X_train_1)\n",
    "X_train_1 = pca.transform(X_train_1)\n",
    "X_test_1 = pca.transform(X_test_1)\n",
    "\n",
    "X_train_1.shape"
   ]
  },
  {
   "cell_type": "code",
   "execution_count": 42,
   "metadata": {},
   "outputs": [
    {
     "name": "stdout",
     "output_type": "stream",
     "text": [
      "Train report of SVM: \n",
      "              precision    recall  f1-score   support\n",
      "\n",
      "           0       1.00      1.00      1.00      5923\n",
      "           1       1.00      1.00      1.00      6742\n",
      "           2       1.00      1.00      1.00      5958\n",
      "           3       1.00      1.00      1.00      6131\n",
      "           4       1.00      1.00      1.00      5842\n",
      "           5       1.00      1.00      1.00      5421\n",
      "           6       1.00      1.00      1.00      5918\n",
      "           7       1.00      1.00      1.00      6265\n",
      "           8       1.00      1.00      1.00      5851\n",
      "           9       1.00      1.00      1.00      5949\n",
      "\n",
      "    accuracy                           1.00     60000\n",
      "   macro avg       1.00      1.00      1.00     60000\n",
      "weighted avg       1.00      1.00      1.00     60000\n",
      "\n",
      "Test report of SVM: \n",
      "              precision    recall  f1-score   support\n",
      "\n",
      "           0       0.98      0.99      0.99       980\n",
      "           1       0.99      1.00      0.99      1135\n",
      "           2       0.99      0.99      0.99      1032\n",
      "           3       0.99      0.99      0.99      1010\n",
      "           4       0.99      0.98      0.99       982\n",
      "           5       0.99      0.99      0.99       892\n",
      "           6       0.99      0.99      0.99       958\n",
      "           7       0.99      0.98      0.98      1028\n",
      "           8       0.99      0.99      0.99       974\n",
      "           9       0.98      0.98      0.98      1009\n",
      "\n",
      "    accuracy                           0.99     10000\n",
      "   macro avg       0.99      0.99      0.99     10000\n",
      "weighted avg       0.99      0.99      0.99     10000\n",
      "\n"
     ]
    }
   ],
   "source": [
    "# SVM Classifier implementation\n",
    "\n",
    "classifier = OneVsRestClassifier(SVC(C=25, kernel='rbf', gamma=0.05, cache_size=4000, probability=False), n_jobs=24)\n",
    "classifier.fit(X_train_1, y_train_1)\n",
    "\n",
    "predicted = classifier.predict(X_train_1)\n",
    "print(\"Train report of SVM: \")\n",
    "print(metrics.classification_report(y_train_1, predicted))\n",
    "\n",
    "predicted = classifier.predict(X_test_1)\n",
    "print(\"Test report of SVM: \")\n",
    "print(metrics.classification_report(y_test_1, predicted))"
   ]
  },
  {
   "cell_type": "code",
   "execution_count": 43,
   "metadata": {},
   "outputs": [
    {
     "name": "stdout",
     "output_type": "stream",
     "text": [
      "Train report of LR: \n",
      "              precision    recall  f1-score   support\n",
      "\n",
      "           0       0.96      0.96      0.96      5923\n",
      "           1       0.95      0.97      0.96      6742\n",
      "           2       0.90      0.88      0.89      5958\n",
      "           3       0.89      0.87      0.88      6131\n",
      "           4       0.91      0.92      0.91      5842\n",
      "           5       0.86      0.85      0.85      5421\n",
      "           6       0.93      0.95      0.94      5918\n",
      "           7       0.93      0.93      0.93      6265\n",
      "           8       0.87      0.86      0.87      5851\n",
      "           9       0.88      0.88      0.88      5949\n",
      "\n",
      "    accuracy                           0.91     60000\n",
      "   macro avg       0.91      0.91      0.91     60000\n",
      "weighted avg       0.91      0.91      0.91     60000\n",
      "\n",
      "Test report of LR: \n",
      "              precision    recall  f1-score   support\n",
      "\n",
      "           0       0.94      0.98      0.96       980\n",
      "           1       0.96      0.98      0.97      1135\n",
      "           2       0.91      0.88      0.90      1032\n",
      "           3       0.88      0.90      0.89      1010\n",
      "           4       0.91      0.92      0.92       982\n",
      "           5       0.88      0.84      0.86       892\n",
      "           6       0.93      0.94      0.93       958\n",
      "           7       0.93      0.91      0.92      1028\n",
      "           8       0.86      0.86      0.86       974\n",
      "           9       0.89      0.89      0.89      1009\n",
      "\n",
      "    accuracy                           0.91     10000\n",
      "   macro avg       0.91      0.91      0.91     10000\n",
      "weighted avg       0.91      0.91      0.91     10000\n",
      "\n"
     ]
    }
   ],
   "source": [
    "# Logistic Regression Implementaion \n",
    "lr_clf = LogisticRegression(solver='lbfgs', max_iter=4000)\n",
    "lr_clf.fit(X_train_1, np.ravel(y_train_1, order= 'C'))\n",
    "\n",
    "predicted = lr_clf.predict(X_train_1)\n",
    "print(\"Train report of LR: \")\n",
    "print(metrics.classification_report(y_train_1, predicted))\n",
    "\n",
    "predicted = lr_clf.predict(X_test_1)\n",
    "print(\"Test report of LR: \")\n",
    "print(metrics.classification_report(y_test_1, predicted))"
   ]
  },
  {
   "cell_type": "code",
   "execution_count": 44,
   "metadata": {},
   "outputs": [
    {
     "name": "stdout",
     "output_type": "stream",
     "text": [
      "Train report of KNN:\n",
      "              precision    recall  f1-score   support\n",
      "\n",
      "           0       1.00      1.00      1.00      5923\n",
      "           1       1.00      1.00      1.00      6742\n",
      "           2       1.00      1.00      1.00      5958\n",
      "           3       1.00      1.00      1.00      6131\n",
      "           4       1.00      1.00      1.00      5842\n",
      "           5       1.00      1.00      1.00      5421\n",
      "           6       1.00      1.00      1.00      5918\n",
      "           7       1.00      1.00      1.00      6265\n",
      "           8       1.00      1.00      1.00      5851\n",
      "           9       1.00      1.00      1.00      5949\n",
      "\n",
      "    accuracy                           1.00     60000\n",
      "   macro avg       1.00      1.00      1.00     60000\n",
      "weighted avg       1.00      1.00      1.00     60000\n",
      "\n",
      "Test report of KNN : \n",
      "              precision    recall  f1-score   support\n",
      "\n",
      "           0       0.98      0.99      0.99       980\n",
      "           1       0.98      0.99      0.99      1135\n",
      "           2       0.98      0.98      0.98      1032\n",
      "           3       0.97      0.96      0.96      1010\n",
      "           4       0.97      0.96      0.97       982\n",
      "           5       0.96      0.97      0.97       892\n",
      "           6       0.99      0.98      0.98       958\n",
      "           7       0.97      0.96      0.97      1028\n",
      "           8       0.97      0.96      0.97       974\n",
      "           9       0.95      0.96      0.95      1009\n",
      "\n",
      "    accuracy                           0.97     10000\n",
      "   macro avg       0.97      0.97      0.97     10000\n",
      "weighted avg       0.97      0.97      0.97     10000\n",
      "\n"
     ]
    }
   ],
   "source": [
    "# KNN Implementation\n",
    "knn_clf = KNeighborsClassifier(n_neighbors=2, algorithm='kd_tree', weights='distance', p=3, n_jobs=24)\n",
    "knn_clf.fit(X_train_1, np.ravel(y_train_1, order= 'C'))\n",
    "\n",
    "predicted = knn_clf.predict(X_train_1)\n",
    "print(\"Train report of KNN:\")\n",
    "print(metrics.classification_report(y_train_1, predicted))\n",
    "\n",
    "predicted = knn_clf.predict(X_test_1)\n",
    "print(\"Test report of KNN : \")\n",
    "print(metrics.classification_report(y_test_1, predicted))"
   ]
  },
  {
   "cell_type": "code",
   "execution_count": 45,
   "metadata": {
    "id": "0EDqnDSpF5aA"
   },
   "outputs": [],
   "source": [
    "# Preprocess class labels for CNN by categorizing from 0-9\n",
    "y_train = np_utils.to_categorical(y_train,10)\n",
    "y_test = np_utils.to_categorical(y_test,10)\n",
    "num_classes = y_test.shape[1]"
   ]
  },
  {
   "cell_type": "code",
   "execution_count": 46,
   "metadata": {
    "id": "WFgcAw9HODEI"
   },
   "outputs": [],
   "source": [
    "# CNN model Implementation\n",
    "\n",
    "def build_model():\n",
    "    model = Sequential()\n",
    "    model.add(Conv2D(30, (5, 5), input_shape=(28, 28, 1), activation='relu'))\n",
    "    model.add(MaxPooling2D())\n",
    "    model.add(Conv2D(15, (3, 3), activation='relu'))\n",
    "    model.add(MaxPooling2D())\n",
    "    model.add(Dropout(0.2))\n",
    "    model.add(Flatten())\n",
    "    model.add(Dense(128, activation='relu'))\n",
    "    model.add(Dense(50, activation='relu'))\n",
    "    model.add(Dense(num_classes, activation='softmax'))\n",
    "    return model\n"
   ]
  },
  {
   "cell_type": "code",
   "execution_count": 47,
   "metadata": {
    "colab": {
     "base_uri": "https://localhost:8080/"
    },
    "id": "E0iT5otxMHh7",
    "outputId": "79e84a79-e344-4347-9f61-3e48c4351e2c"
   },
   "outputs": [
    {
     "name": "stdout",
     "output_type": "stream",
     "text": [
      "Epoch 1/10\n",
      "600/600 [==============================] - 31s 44ms/step - loss: 0.6002 - accuracy: 0.8066 - val_loss: 0.0706 - val_accuracy: 0.9767\n",
      "Epoch 2/10\n",
      "600/600 [==============================] - 25s 42ms/step - loss: 0.0902 - accuracy: 0.9715 - val_loss: 0.0423 - val_accuracy: 0.9866\n",
      "Epoch 3/10\n",
      "600/600 [==============================] - 24s 39ms/step - loss: 0.0641 - accuracy: 0.9799 - val_loss: 0.0404 - val_accuracy: 0.9867\n",
      "Epoch 4/10\n",
      "600/600 [==============================] - 23s 39ms/step - loss: 0.0515 - accuracy: 0.9838 - val_loss: 0.0311 - val_accuracy: 0.9896\n",
      "Epoch 5/10\n",
      "600/600 [==============================] - 24s 39ms/step - loss: 0.0415 - accuracy: 0.9869 - val_loss: 0.0263 - val_accuracy: 0.9914\n",
      "Epoch 6/10\n",
      "600/600 [==============================] - 23s 39ms/step - loss: 0.0359 - accuracy: 0.9889 - val_loss: 0.0304 - val_accuracy: 0.9893\n",
      "Epoch 7/10\n",
      "600/600 [==============================] - 24s 40ms/step - loss: 0.0297 - accuracy: 0.9902 - val_loss: 0.0249 - val_accuracy: 0.9916\n",
      "Epoch 8/10\n",
      "600/600 [==============================] - 25s 42ms/step - loss: 0.0293 - accuracy: 0.9905 - val_loss: 0.0282 - val_accuracy: 0.9907\n",
      "Epoch 9/10\n",
      "600/600 [==============================] - 22s 37ms/step - loss: 0.0271 - accuracy: 0.9909 - val_loss: 0.0238 - val_accuracy: 0.9924\n",
      "Epoch 10/10\n",
      "600/600 [==============================] - 22s 37ms/step - loss: 0.0243 - accuracy: 0.9921 - val_loss: 0.0218 - val_accuracy: 0.9934\n"
     ]
    }
   ],
   "source": [
    "# fitting the CNN model\n",
    "model=build_model()\n",
    "model.compile(loss='categorical_crossentropy', optimizer='adam', metrics=['accuracy'])\n",
    "hist=model.fit(X_train, y_train, validation_data=(X_test, y_test), epochs=10, batch_size=100)"
   ]
  },
  {
   "cell_type": "code",
   "execution_count": 48,
   "metadata": {
    "colab": {
     "base_uri": "https://localhost:8080/"
    },
    "id": "-gtBgKm7MVUi",
    "outputId": "bb824455-4478-406f-db4d-316dc7906ffc"
   },
   "outputs": [
    {
     "name": "stdout",
     "output_type": "stream",
     "text": [
      "313/313 [==============================] - 2s 4ms/step - loss: 0.0218 - accuracy: 0.9934\n"
     ]
    },
    {
     "data": {
      "text/plain": [
       "[0.02180013805627823, 0.993399977684021]"
      ]
     },
     "execution_count": 48,
     "metadata": {},
     "output_type": "execute_result"
    }
   ],
   "source": [
    "# Saving the model to model.h5 file and calculating test accuracy\n",
    "model.save(\"model.h5\")\n",
    "model.evaluate(X_test, y_test)"
   ]
  },
  {
   "cell_type": "code",
   "execution_count": 49,
   "metadata": {
    "colab": {
     "base_uri": "https://localhost:8080/",
     "height": 282
    },
    "id": "fN-Dh_8RQGRR",
    "outputId": "feda44fb-29c9-4032-f91a-94ea87dafa76"
   },
   "outputs": [
    {
     "name": "stdout",
     "output_type": "stream",
     "text": [
      "Predicted Number is :  7\n"
     ]
    },
    {
     "data": {
      "image/png": "[encoded data removed]",
      "text/plain": [
       "<Figure size 432x288 with 1 Axes>"
      ]
     },
     "metadata": {
      "needs_background": "light"
     },
     "output_type": "display_data"
    }
   ],
   "source": [
    "# Predicting the number by giving index of an image \n",
    "image_index = 4471\n",
    "plt.imshow(X_test[image_index].reshape(28, 28),cmap='Greys')\n",
    "predict = X_test[image_index].reshape(28,28)\n",
    "pred = model.predict(X_test[image_index].reshape(1, 28, 28, 1))\n",
    "print(\"Predicted Number is : \",pred.argmax())"
   ]
  },
  {
   "cell_type": "markdown",
   "metadata": {},
   "source": [
    "### GUI Implementation"
   ]
  },
  {
   "cell_type": "code",
   "execution_count": 50,
   "metadata": {},
   "outputs": [
    {
     "data": {
      "text/plain": [
       "<tensorflow.python.keras.engine.sequential.Sequential at 0x1e2aea2cfc8>"
      ]
     },
     "execution_count": 50,
     "metadata": {},
     "output_type": "execute_result"
    }
   ],
   "source": [
    "# Loading CNN model\n",
    "model_cv = load_model(\"model.h5\")\n",
    "model_cv"
   ]
  },
  {
   "cell_type": "code",
   "execution_count": 51,
   "metadata": {},
   "outputs": [],
   "source": [
    "# Creating window \n",
    "source=Tk()\n",
    "source.resizable(0,0)\n",
    "source.title(\"Handwritten Digits Recognition System\")\n",
    "initx, inity = None, None\n",
    "image_number =0"
   ]
  },
  {
   "cell_type": "code",
   "execution_count": 52,
   "metadata": {},
   "outputs": [],
   "source": [
    "# To clear draw area\n",
    "def clear_source():\n",
    "    global draw_area\n",
    "    draw_area.delete(\"all\")"
   ]
  },
  {
   "cell_type": "code",
   "execution_count": 53,
   "metadata": {},
   "outputs": [],
   "source": [
    "# To start the session\n",
    "def activate_event(event):\n",
    "    global initx, inity\n",
    "    draw_area.bind('<B1-Motion>', draw_lines)\n",
    "    initx, inity = event.x, event.y"
   ]
  },
  {
   "cell_type": "code",
   "execution_count": 54,
   "metadata": {},
   "outputs": [],
   "source": [
    "# to draw the digits and capture the area\n",
    "def draw_lines(event):\n",
    "    global initx, inity\n",
    "    x, y = event.x, event.y\n",
    "    draw_area.create_line((initx, inity, x, y), width=7, fill='black', capstyle=ROUND, smooth=True, splinesteps=12)\n",
    "    initx, inity = x, y"
   ]
  },
  {
   "cell_type": "code",
   "execution_count": 55,
   "metadata": {},
   "outputs": [],
   "source": [
    "# To recognize the digit drawn\n",
    "def Recognize_Digit():\n",
    "    global image_number\n",
    "    filename=f'image_{image_number}.png'\n",
    "    widget=draw_area\n",
    "    x= source.winfo_rootx() + widget.winfo_x()\n",
    "    y= source.winfo_rooty() + widget.winfo_y()\n",
    "    x1=x+widget.winfo_width()\n",
    "    y1=y+widget.winfo_height()\n",
    "    ImageGrab.grab().crop((x,y,x1,y1)).save(filename)\n",
    "    digit = cv2.imread(filename,cv2.IMREAD_COLOR)\n",
    "    make_gray=cv2.cvtColor(digit.copy(),cv2.COLOR_BGR2GRAY)\n",
    "    ret,th=cv2.threshold(make_gray,0,255,cv2.THRESH_BINARY_INV+cv2.THRESH_OTSU)\n",
    "    contours=cv2.findContours(th,cv2.RETR_EXTERNAL,cv2.CHAIN_APPROX_SIMPLE)[0]\n",
    "    \n",
    "    for cnt in contours:\n",
    "        x,y,w,h=cv2.boundingRect(cnt)\n",
    "        cv2.rectangle(digit,(x,y),(x+w,y+h),(255,0,0),1)\n",
    "        top=int(5*th.shape[0])\n",
    "        bottom=top\n",
    "        left=int(5*th.shape[1])\n",
    "        right=left\n",
    "        roi=th[y-top:y+h+bottom+10,x-left:x+w+right]\n",
    "        img=cv2.resize(roi,(28,28),interpolation=cv2.INTER_AREA)\n",
    "        img=img.reshape(1,28,28,1)\n",
    "        img=img/255.0\n",
    "        prediction=model_cv.predict([img])[0]\n",
    "        final=np.argmax(prediction)\n",
    "        data=str(final)+'  '+str(int(max(prediction)*100))+'%'\n",
    "        cv2.putText(digit,data,(x,y-5),cv2.FONT_HERSHEY_SIMPLEX,0.5,(255,0,0),1)\n",
    "    cv2.imshow('Digit',digit)\n",
    "    cv2.waitKey(0)"
   ]
  },
  {
   "cell_type": "code",
   "execution_count": 56,
   "metadata": {},
   "outputs": [],
   "source": [
    "draw_area=Canvas(source, width=750, height=560, bg='white')\n",
    "draw_area.grid(row=0, column=0, pady=2, sticky=W, columnspan=2)\n",
    "draw_area.bind('<Button-1>', activate_event)\n",
    "btn_save=Button(text=\"Recognize the Digit\",fg='black',command=Recognize_Digit)\n",
    "btn_save.grid(row=2,column=0,pady=1,padx=1)\n",
    "butn_clear=Button(text=\"Clear\",fg='black', command=clear_source)\n",
    "butn_clear.grid(row=2,column=1,pady=1,padx=1)\n",
    "source.mainloop()"
   ]
  },
  {
   "cell_type": "code",
   "execution_count": null,
   "metadata": {},
   "outputs": [],
   "source": []
  }
 ],
 "metadata": {
  "colab": {
   "name": "ML_Project_Handwritten_digits_recognition_system.ipynb",
   "provenance": []
  },
  "kernelspec": {
   "display_name": "Python 3",
   "language": "python",
   "name": "python3"
  },
  "language_info": {
   "codemirror_mode": {
    "name": "ipython",
    "version": 3
   },
   "file_extension": ".py",
   "mimetype": "text/x-python",
   "name": "python",
   "nbconvert_exporter": "python",
   "pygments_lexer": "ipython3",
   "version": "3.7.6"
  }
 },
 "nbformat": 4,
 "nbformat_minor": 1
}
